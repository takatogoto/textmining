{
 "cells": [
  {
   "cell_type": "code",
   "execution_count": 1,
   "metadata": {},
   "outputs": [
    {
     "data": {
      "image/png": "[encoded data removed]",
      "text/plain": [
       "<Figure size 432x288 with 1 Axes>"
      ]
     },
     "metadata": {
      "needs_background": "light"
     },
     "output_type": "display_data"
    }
   ],
   "source": [
    "# -*- coding: utf-8 -*-\n",
    "# リスト2-5 　scikit-learn を使って iris データを取り込み、散布図を描くプログラム例\n",
    "%matplotlib inline\n",
    "import numpy as np\n",
    "import matplotlib.pyplot as plt\n",
    "from sklearn.datasets import load_iris\n",
    "from sklearn.cluster import KMeans\n",
    "import pandas as pd\n",
    "iris = load_iris()\n",
    "species = ['Setosa','Versicolour', 'Virginica']\n",
    "irispddata = pd.DataFrame(iris.data, columns=iris.feature_names)\n",
    "irispdtarget = pd.DataFrame(iris.target, columns=['target'])\n",
    "\n",
    "kmeans = KMeans(n_clusters=3).fit(irispddata)\n",
    "\n",
    "irispd = pd.concat([irispddata, irispdtarget], axis=1)\n",
    "iriskmeans = pd.concat([irispd, pd.DataFrame(kmeans.labels_, \\\n",
    "                        columns=['kmeans'])], axis=1)\n",
    "irispd0 = iriskmeans[iriskmeans.kmeans == 0]\n",
    "irispd1 = iriskmeans[iriskmeans.kmeans == 1]\n",
    "irispd2 = iriskmeans[iriskmeans.kmeans == 2]\n",
    "\n",
    "plt.scatter(irispd0['petal length (cm)'], irispd0['petal width (cm)'], c='red', \\\n",
    "            marker='x')\n",
    "plt.scatter(irispd1['petal length (cm)'], irispd1['petal width (cm)'], c='blue', \\\n",
    "            marker='.')\n",
    "plt.scatter(irispd2['petal length (cm)'], irispd2['petal width (cm)'], c='green', \\\n",
    "            marker='+')\n",
    "\n",
    "plt.title('iris散布図、k-means法')\n",
    "plt.xlabel('花弁の長さ(cm)')\n",
    "plt.ylabel('花弁の幅(cm)')\n",
    "plt.show()"
   ]
  },
  {
   "cell_type": "code",
   "execution_count": 2,
   "metadata": {},
   "outputs": [
    {
     "data": {
      "text/plain": [
       "'C:\\\\Users\\\\Takato\\\\Anaconda3\\\\envs\\\\text\\\\lib\\\\site-packages\\\\matplotlib\\\\mpl-data\\\\matplotlibrc'"
      ]
     },
     "execution_count": 2,
     "metadata": {},
     "output_type": "execute_result"
    }
   ],
   "source": [
    "import matplotlib\n",
    "matplotlib.matplotlib_fname()"
   ]
  },
  {
   "cell_type": "code",
   "execution_count": 3,
   "metadata": {},
   "outputs": [
    {
     "data": {
      "text/plain": [
       "'C:\\\\Users\\\\Takato\\\\.matplotlib'"
      ]
     },
     "execution_count": 3,
     "metadata": {},
     "output_type": "execute_result"
    }
   ],
   "source": [
    "matplotlib.get_cachedir()"
   ]
  },
  {
   "cell_type": "code",
   "execution_count": 4,
   "metadata": {},
   "outputs": [
    {
     "data": {
      "text/plain": [
       "'C:\\\\Users\\\\Takato\\\\.matplotlib'"
      ]
     },
     "execution_count": 4,
     "metadata": {},
     "output_type": "execute_result"
    }
   ],
   "source": [
    "matplotlib.get_configdir()"
   ]
  },
  {
   "cell_type": "code",
   "execution_count": null,
   "metadata": {},
   "outputs": [],
   "source": []
  }
 ],
 "metadata": {
  "kernelspec": {
   "display_name": "Python 3",
   "language": "python",
   "name": "python3"
  },
  "language_info": {
   "codemirror_mode": {
    "name": "ipython",
    "version": 3
   },
   "file_extension": ".py",
   "mimetype": "text/x-python",
   "name": "python",
   "nbconvert_exporter": "python",
   "pygments_lexer": "ipython3",
   "version": "3.7.3"
  }
 },
 "nbformat": 4,
 "nbformat_minor": 2
}
