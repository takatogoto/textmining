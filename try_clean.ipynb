{
 "cells": [
  {
   "cell_type": "markdown",
   "metadata": {},
   "source": [
    "# Try\n",
    "## Dataset"
   ]
  },
  {
   "cell_type": "code",
   "execution_count": 1,
   "metadata": {},
   "outputs": [],
   "source": [
    "import pandas as pd\n",
    "import os\n",
    "import glob\n",
    "import numpy as np\n",
    "\n",
    "pd.options.display.max_rows = None #常に全ての列（カラム）を表示\n",
    "pd.set_option('display.max_columns', None) #常に全ての列（カラム）を表示\n",
    "\n",
    "datanme = '20190206 3D131収録リスト.xlsx'\n",
    "\n",
    "datapath = os.path.join('data', datanme) \n",
    "dfdata = pd.read_excel(datapath)\n",
    "\n",
    "dfclass = pd.read_excel('freq_major_class.xls', index_col=0)"
   ]
  },
  {
   "cell_type": "code",
   "execution_count": 2,
   "metadata": {},
   "outputs": [],
   "source": [
    "# get list of data file\n",
    "datalist = glob.glob(\"data/set/*_main.txt\")"
   ]
  },
  {
   "cell_type": "markdown",
   "metadata": {},
   "source": [
    "https://stackoverflow.com/questions/38250710/how-to-split-data-into-3-sets-train-validation-and-test"
   ]
  },
  {
   "cell_type": "code",
   "execution_count": 5,
   "metadata": {},
   "outputs": [],
   "source": [
    "# split data into 3 set\n",
    "train, validate, test = np.split(datalist, [int(.6*len(datalist)), int(.8*len(datalist))])"
   ]
  },
  {
   "cell_type": "markdown",
   "metadata": {},
   "source": [
    "https://qiita.com/corda_glun/items/1cd77bde275091a54c6c  \n",
    "https://it-engineer-lab.com/archives/122"
   ]
  },
  {
   "cell_type": "code",
   "execution_count": 9,
   "metadata": {},
   "outputs": [],
   "source": [
    "classnm = list(dfclass[\"分類コード\"].str.rstrip('0'))\n",
    "\n",
    "Y_train = np.zeros((len(train), len(classnm)))\n",
    "\n",
    "for i, item in enumerate(train):\n",
    "    path = item[:-8] + 'fterm.txt'\n",
    "    with open(path) as f:\n",
    "        s = f.read()\n",
    "    Y = [n in s for n in classnm]\n",
    "    Y_train[i,:] = list(map(lambda x :1 if x else 0, Y))"
   ]
  },
  {
   "cell_type": "code",
   "execution_count": 11,
   "metadata": {},
   "outputs": [],
   "source": [
    "Y_validate = np.zeros((len(validate), len(classnm)))\n",
    "\n",
    "for i, item in enumerate(validate):\n",
    "    path = item[:-8] + 'fterm.txt'\n",
    "    with open(path) as f:\n",
    "        s = f.read()\n",
    "    Y = [n in s for n in classnm]\n",
    "    Y_validate[i,:] = list(map(lambda x :1 if x else 0, Y))"
   ]
  },
  {
   "cell_type": "code",
   "execution_count": 12,
   "metadata": {},
   "outputs": [],
   "source": [
    "Y_test = np.zeros((len(test), len(classnm)))\n",
    "\n",
    "for i, item in enumerate(test):\n",
    "    path = item[:-8] + 'fterm.txt'\n",
    "    with open(path) as f:\n",
    "        s = f.read()\n",
    "    Y = [n in s for n in classnm]\n",
    "    Y_test[i,:] = list(map(lambda x :1 if x else 0, Y))"
   ]
  },
  {
   "cell_type": "code",
   "execution_count": 10,
   "metadata": {},
   "outputs": [
    {
     "data": {
      "text/plain": [
       "array([[0., 0., 1., ..., 0., 0., 0.],\n",
       "       [1., 1., 1., ..., 0., 1., 1.],\n",
       "       [1., 1., 0., ..., 0., 0., 0.],\n",
       "       ...,\n",
       "       [1., 1., 1., ..., 0., 0., 0.],\n",
       "       [1., 1., 1., ..., 0., 0., 0.],\n",
       "       [1., 1., 0., ..., 0., 0., 0.]])"
      ]
     },
     "execution_count": 10,
     "metadata": {},
     "output_type": "execute_result"
    }
   ],
   "source": [
    "Y_train"
   ]
  },
  {
   "cell_type": "code",
   "execution_count": 8,
   "metadata": {},
   "outputs": [
    {
     "name": "stdout",
     "output_type": "stream",
     "text": [
      "0\n",
      "item is  data/set/特開2016-196237_main.txt\n",
      "1\n",
      "item is  data/set/特開2010-125949_main.txt\n",
      "2\n",
      "item is  data/set/特表2016-507412_main.txt\n",
      "3\n",
      "item is  data/set/特開2016-065017_main.txt\n",
      "4\n",
      "item is  data/set/特開2014-004900_main.txt\n",
      "5\n",
      "item is  data/set/特開2015-072194_main.txt\n"
     ]
    }
   ],
   "source": []
  },
  {
   "cell_type": "code",
   "execution_count": null,
   "metadata": {},
   "outputs": [],
   "source": []
  }
 ],
 "metadata": {
  "kernelspec": {
   "display_name": "Python 3",
   "language": "python",
   "name": "python3"
  },
  "language_info": {
   "codemirror_mode": {
    "name": "ipython",
    "version": 3
   },
   "file_extension": ".py",
   "mimetype": "text/x-python",
   "name": "python",
   "nbconvert_exporter": "python",
   "pygments_lexer": "ipython3",
   "version": "3.6.8"
  }
 },
 "nbformat": 4,
 "nbformat_minor": 2
}
